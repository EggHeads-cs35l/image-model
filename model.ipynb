{
 "cells": [
  {
   "cell_type": "code",
   "execution_count": null,
   "metadata": {},
   "outputs": [],
   "source": [
    "import tensorflow as tf"
   ]
  },
  {
   "cell_type": "code",
   "execution_count": 3,
   "metadata": {},
   "outputs": [
    {
     "name": "stdout",
     "output_type": "stream",
     "text": [
      "python version:  3.9.13 (main, Oct 13 2022, 16:12:30) \n",
      "[Clang 12.0.0 ]\n"
     ]
    }
   ],
   "source": [
    "# check versions and devices\n",
    "print(\"python version: \", sys.version)\n",
    "# print(\"tf version: \", tf.__version__)\n",
    "# print(\"devices: \", tf.config.list_physical_devices())"
   ]
  },
  {
   "cell_type": "code",
   "execution_count": 39,
   "metadata": {},
   "outputs": [
    {
     "name": "stdout",
     "output_type": "stream",
     "text": [
      "cars:\n",
      "                                                     0\n",
      "0                        [AM General Hummer SUV 2000]\n",
      "1                               [Acura RL Sedan 2012]\n",
      "2                               [Acura TL Sedan 2012]\n",
      "3                              [Acura TL Type-S 2008]\n",
      "4                              [Acura TSX Sedan 2012]\n",
      "5                         [Acura Integra Type R 2001]\n",
      "6                          [Acura ZDX Hatchback 2012]\n",
      "7          [Aston Martin V8 Vantage Convertible 2012]\n",
      "8                [Aston Martin V8 Vantage Coupe 2012]\n",
      "9              [Aston Martin Virage Convertible 2012]\n",
      "10                   [Aston Martin Virage Coupe 2012]\n",
      "11                       [Audi RS 4 Convertible 2008]\n",
      "12                               [Audi A5 Coupe 2012]\n",
      "13                              [Audi TTS Coupe 2012]\n",
      "14                               [Audi R8 Coupe 2012]\n",
      "15                               [Audi V8 Sedan 1994]\n",
      "16                              [Audi 100 Sedan 1994]\n",
      "17                              [Audi 100 Wagon 1994]\n",
      "18                           [Audi TT Hatchback 2011]\n",
      "19                               [Audi S6 Sedan 2011]\n",
      "20                         [Audi S5 Convertible 2012]\n",
      "21                               [Audi S5 Coupe 2012]\n",
      "22                               [Audi S4 Sedan 2012]\n",
      "23                               [Audi S4 Sedan 2007]\n",
      "24                            [Audi TT RS Coupe 2012]\n",
      "25                    [BMW ActiveHybrid 5 Sedan 2012]\n",
      "26                    [BMW 1 Series Convertible 2012]\n",
      "27                          [BMW 1 Series Coupe 2012]\n",
      "28                          [BMW 3 Series Sedan 2012]\n",
      "29                          [BMW 3 Series Wagon 2012]\n",
      "30                    [BMW 6 Series Convertible 2007]\n",
      "31                                  [BMW X5 SUV 2007]\n",
      "32                                  [BMW X6 SUV 2012]\n",
      "33                                [BMW M3 Coupe 2012]\n",
      "34                                [BMW M5 Sedan 2010]\n",
      "35                          [BMW M6 Convertible 2010]\n",
      "36                                  [BMW X3 SUV 2012]\n",
      "37                          [BMW Z4 Convertible 2012]\n",
      "38  [Bentley Continental Supersports Conv. Convert...\n",
      "39                        [Bentley Arnage Sedan 2009]\n",
      "40                      [Bentley Mulsanne Sedan 2011]\n"
     ]
    }
   ],
   "source": [
    "# convert annotations to dataframes to visualize classes\n",
    "from pandas import DataFrame\n",
    "from scipy.io import loadmat\n",
    "mat = loadmat('data/info.mat')\n",
    "cars = DataFrame(mat['class_names'][0])\n",
    "boxes = DataFrame(mat['annotations'][0])\n",
    "print(\"cars:\\n\", cars.head(41))\n",
    "# print(\"boxes:\\n\", boxes.head())"
   ]
  },
  {
   "cell_type": "code",
   "execution_count": 56,
   "metadata": {},
   "outputs": [],
   "source": [
    "# organize images into directories\n",
    "import os\n",
    "import shutil\n",
    "imlist = os.listdir(\"./data/images/\")\n",
    "for i in range(len(imlist)):\n",
    "    img_num = int(imlist[i].split('.')[0])\n",
    "    dir_num = int(boxes['class'][img_num-1][0][0]-1)\n",
    "    img_path = os.path.join(\"./data/images/\", imlist[i])\n",
    "    dir_path = os.path.join(\"./data/dataset/\", str(dir_num)+\"/\"+imlist[i])\n",
    "    shutil.move(img_path, dir_path)"
   ]
  }
 ],
 "metadata": {
  "kernelspec": {
   "display_name": "Python 3.9.13 ('ai')",
   "language": "python",
   "name": "python3"
  },
  "language_info": {
   "codemirror_mode": {
    "name": "ipython",
    "version": 3
   },
   "file_extension": ".py",
   "mimetype": "text/x-python",
   "name": "python",
   "nbconvert_exporter": "python",
   "pygments_lexer": "ipython3",
   "version": "3.9.13"
  },
  "orig_nbformat": 4,
  "vscode": {
   "interpreter": {
    "hash": "10b546dc9a6492740535e7e359781ac3cb076df88249adf04015d7e9d7b6abb1"
   }
  }
 },
 "nbformat": 4,
 "nbformat_minor": 2
}
