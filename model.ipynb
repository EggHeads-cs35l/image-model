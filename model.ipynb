{
 "cells": [
  {
   "cell_type": "code",
   "execution_count": 6,
   "metadata": {},
   "outputs": [
    {
     "name": "stdout",
     "output_type": "stream",
     "text": [
      "python version:  3.9.13 (main, Oct 13 2022, 16:12:30) \n",
      "[Clang 12.0.0 ]\n"
     ]
    }
   ],
   "source": [
    "# check versions and devices\n",
    "print(\"python version: \", sys.version)\n",
    "# print(\"tf version: \", tf.__version__)\n",
    "# print(\"devices: \", tf.config.list_physical_devices())"
   ]
  },
  {
   "cell_type": "code",
   "execution_count": 7,
   "metadata": {},
   "outputs": [],
   "source": [
    "# convert annotations to dataframes to visualize classes\n",
    "from pandas import DataFrame\n",
    "from scipy.io import loadmat\n",
    "mat = loadmat('data/info.mat')\n",
    "cars = DataFrame(mat['class_names'][0])\n",
    "boxes = DataFrame(mat['annotations'][0])\n",
    "# print(\"cars:\\n\", cars.head())\n",
    "# print(\"boxes:\\n\", boxes.head())"
   ]
  },
  {
   "cell_type": "code",
   "execution_count": 8,
   "metadata": {},
   "outputs": [],
   "source": [
    "# organize images into directories\n",
    "import os\n",
    "import shutil\n",
    "imlist = os.listdir(\"./data/images/\")\n",
    "for i in range(len(imlist)):\n",
    "    img_num = int(imlist[i].split('.')[0])\n",
    "    dir_num = int(boxes['class'][img_num-1][0][0]-1)\n",
    "    img_path = os.path.join(\"./data/images/\", imlist[i])\n",
    "    dir_path = os.path.join(\"./data/dataset/\", str(dir_num)+\"/\"+imlist[i])\n",
    "    shutil.move(img_path, dir_path)"
   ]
  },
  {
   "cell_type": "code",
   "execution_count": 9,
   "metadata": {},
   "outputs": [
    {
     "name": "stdout",
     "output_type": "stream",
     "text": [
      "Found 16185 files belonging to 196 classes.\n",
      "Using 12948 files for training.\n",
      "Metal device set to: AMD Radeon Pro 560X\n",
      "\n",
      "systemMemory: 32.00 GB\n",
      "maxCacheSize: 2.00 GB\n",
      "\n"
     ]
    },
    {
     "name": "stderr",
     "output_type": "stream",
     "text": [
      "2022-11-03 17:22:30.781509: I tensorflow/core/platform/cpu_feature_guard.cc:193] This TensorFlow binary is optimized with oneAPI Deep Neural Network Library (oneDNN) to use the following CPU instructions in performance-critical operations:  SSE4.1 SSE4.2 AVX AVX2 FMA\n",
      "To enable them in other operations, rebuild TensorFlow with the appropriate compiler flags.\n",
      "2022-11-03 17:22:30.798632: I tensorflow/core/common_runtime/pluggable_device/pluggable_device_factory.cc:306] Could not identify NUMA node of platform GPU ID 0, defaulting to 0. Your kernel may not have been built with NUMA support.\n",
      "2022-11-03 17:22:30.800531: I tensorflow/core/platform/cpu_feature_guard.cc:193] This TensorFlow binary is optimized with oneAPI Deep Neural Network Library (oneDNN) to use the following CPU instructions in performance-critical operations:  SSE4.1 SSE4.2 AVX AVX2 FMA\n",
      "To enable them in other operations, rebuild TensorFlow with the appropriate compiler flags.\n",
      "2022-11-03 17:22:30.801204: I tensorflow/core/common_runtime/pluggable_device/pluggable_device_factory.cc:272] Created TensorFlow device (/job:localhost/replica:0/task:0/device:GPU:0 with 0 MB memory) -> physical PluggableDevice (device: 0, name: METAL, pci bus id: <undefined>)\n"
     ]
    },
    {
     "name": "stdout",
     "output_type": "stream",
     "text": [
      "Found 16185 files belonging to 196 classes.\n",
      "Using 3237 files for validation.\n"
     ]
    }
   ],
   "source": [
    "# create train and validation datasets\n",
    "import tensorflow as tf\n",
    "\n",
    "batch_size = 126\n",
    "img_height = 240\n",
    "img_width = 360\n",
    "\n",
    "train_ds = tf.keras.preprocessing.image_dataset_from_directory(\n",
    "    \"./data/dataset/\",\n",
    "    validation_split=0.2,\n",
    "    subset=\"training\",\n",
    "    seed=123,\n",
    "    image_size=(img_height, img_width),\n",
    "    batch_size=batch_size,\n",
    "    shuffle=True\n",
    ")\n",
    "val_ds = tf.keras.preprocessing.image_dataset_from_directory(\n",
    "    \"./data/dataset/\",\n",
    "    validation_split=0.2,\n",
    "    subset=\"validation\",\n",
    "    seed=123,\n",
    "    image_size=(img_height, img_width),\n",
    "    batch_size=batch_size,\n",
    "    shuffle=True\n",
    ")\n",
    "\n",
    "class_names = train_ds.class_names\n",
    "# TODO: figure out why not sorted\n",
    "# print(\"class names: \", class_names)"
   ]
  },
  {
   "cell_type": "code",
   "execution_count": 10,
   "metadata": {},
   "outputs": [],
   "source": [
    "# configure performance\n",
    "autotune = tf.data.AUTOTUNE\n",
    "\n",
    "train_ds = train_ds.cache().prefetch(buffer_size=autotune)\n",
    "val_ds = val_ds.cache().prefetch(buffer_size=autotune)"
   ]
  },
  {
   "cell_type": "code",
   "execution_count": 11,
   "metadata": {},
   "outputs": [
    {
     "name": "stdout",
     "output_type": "stream",
     "text": [
      "Model: \"sequential\"\n",
      "_________________________________________________________________\n",
      " Layer (type)                Output Shape              Param #   \n",
      "=================================================================\n",
      " rescaling (Rescaling)       (None, 240, 360, 3)       0         \n",
      "                                                                 \n",
      " conv2d (Conv2D)             (None, 238, 358, 32)      896       \n",
      "                                                                 \n",
      " max_pooling2d (MaxPooling2D  (None, 119, 179, 32)     0         \n",
      " )                                                               \n",
      "                                                                 \n",
      " conv2d_1 (Conv2D)           (None, 117, 177, 32)      9248      \n",
      "                                                                 \n",
      " max_pooling2d_1 (MaxPooling  (None, 58, 88, 32)       0         \n",
      " 2D)                                                             \n",
      "                                                                 \n",
      " conv2d_2 (Conv2D)           (None, 56, 86, 32)        9248      \n",
      "                                                                 \n",
      " max_pooling2d_2 (MaxPooling  (None, 28, 43, 32)       0         \n",
      " 2D)                                                             \n",
      "                                                                 \n",
      " flatten (Flatten)           (None, 38528)             0         \n",
      "                                                                 \n",
      " dense (Dense)               (None, 128)               4931712   \n",
      "                                                                 \n",
      " dense_1 (Dense)             (None, 196)               25284     \n",
      "                                                                 \n",
      "=================================================================\n",
      "Total params: 4,976,388\n",
      "Trainable params: 4,976,388\n",
      "Non-trainable params: 0\n",
      "_________________________________________________________________\n"
     ]
    }
   ],
   "source": [
    "# model\n",
    "model = tf.keras.Sequential([\n",
    "    tf.keras.layers.Rescaling(1./255, input_shape=(img_height, img_width, 3)),\n",
    "    tf.keras.layers.Conv2D(32, 3, activation='relu'),\n",
    "    tf.keras.layers.MaxPooling2D(),\n",
    "    tf.keras.layers.Conv2D(32, 3, activation='relu'),\n",
    "    tf.keras.layers.MaxPooling2D(),\n",
    "    tf.keras.layers.Conv2D(32, 3, activation='relu'),\n",
    "    tf.keras.layers.MaxPooling2D(),\n",
    "    tf.keras.layers.Flatten(),\n",
    "    tf.keras.layers.Dense(128, activation='relu'),\n",
    "    tf.keras.layers.Dense(196)\n",
    "])\n",
    "\n",
    "model.summary()\n",
    "\n"
   ]
  },
  {
   "cell_type": "code",
   "execution_count": 12,
   "metadata": {},
   "outputs": [],
   "source": [
    "# compile model\n",
    "model.compile(\n",
    "    optimizer='adam',\n",
    "    loss=tf.losses.SparseCategoricalCrossentropy(from_logits=True),\n",
    "    metrics=['accuracy']\n",
    ")"
   ]
  },
  {
   "cell_type": "code",
   "execution_count": 13,
   "metadata": {},
   "outputs": [
    {
     "name": "stdout",
     "output_type": "stream",
     "text": [
      "Epoch 1/3\n"
     ]
    },
    {
     "name": "stderr",
     "output_type": "stream",
     "text": [
      "2022-11-03 17:22:32.716747: I tensorflow/core/grappler/optimizers/custom_graph_optimizer_registry.cc:114] Plugin optimizer for device_type GPU is enabled.\n"
     ]
    },
    {
     "name": "stdout",
     "output_type": "stream",
     "text": [
      "103/103 [==============================] - ETA: 0s - loss: 5.2405 - accuracy: 0.0077"
     ]
    },
    {
     "name": "stderr",
     "output_type": "stream",
     "text": [
      "2022-11-03 17:29:28.162869: I tensorflow/core/grappler/optimizers/custom_graph_optimizer_registry.cc:114] Plugin optimizer for device_type GPU is enabled.\n"
     ]
    },
    {
     "name": "stdout",
     "output_type": "stream",
     "text": [
      "103/103 [==============================] - 446s 4s/step - loss: 5.2405 - accuracy: 0.0077 - val_loss: 5.1853 - val_accuracy: 0.0139\n",
      "Epoch 2/3\n",
      "103/103 [==============================] - 452s 4s/step - loss: 5.0370 - accuracy: 0.0242 - val_loss: 5.1308 - val_accuracy: 0.0253\n",
      "Epoch 3/3\n",
      "103/103 [==============================] - 448s 4s/step - loss: 4.3529 - accuracy: 0.1081 - val_loss: 6.0657 - val_accuracy: 0.0287\n"
     ]
    }
   ],
   "source": [
    "# train\n",
    "history = model.fit(\n",
    "    train_ds,\n",
    "    validation_data=val_ds,\n",
    "    epochs=3\n",
    ")"
   ]
  },
  {
   "cell_type": "code",
   "execution_count": 14,
   "metadata": {},
   "outputs": [],
   "source": [
    "# save and load\n",
    "import pandas as pd\n",
    "from tensorflow.keras.models import load_model\n",
    "\n",
    "# save\n",
    "model.save('model.h5')\n",
    "hist_df = pd.DataFrame(history.history)\n",
    "with open(\"hist.json\", \"w\") as f:\n",
    "    hist_df.to_json(f)\n",
    "\n",
    "# load\n",
    "model = load_model('model.h5')\n",
    "model_hist = pd.read_json(\"hist.json\")"
   ]
  },
  {
   "cell_type": "code",
   "execution_count": 15,
   "metadata": {},
   "outputs": [
    {
     "data": {
      "image/png": "[encoded data removed]",
      "text/plain": [
       "<Figure size 640x480 with 1 Axes>"
      ]
     },
     "metadata": {},
     "output_type": "display_data"
    }
   ],
   "source": [
    "# plot accuracy and val_accuracy\n",
    "import matplotlib.pyplot as plt\n",
    "plt.plot(model_hist['accuracy'], label='train')\n",
    "plt.plot(model_hist['val_accuracy'], label = 'test')\n",
    "plt.xlabel('Epoch')\n",
    "plt.ylabel('Accuracy')\n",
    "plt.legend(loc='upper left')\n",
    "plt.show()"
   ]
  }
 ],
 "metadata": {
  "kernelspec": {
   "display_name": "Python 3.9.13 ('ai')",
   "language": "python",
   "name": "python3"
  },
  "language_info": {
   "codemirror_mode": {
    "name": "ipython",
    "version": 3
   },
   "file_extension": ".py",
   "mimetype": "text/x-python",
   "name": "python",
   "nbconvert_exporter": "python",
   "pygments_lexer": "ipython3",
   "version": "3.9.13"
  },
  "orig_nbformat": 4,
  "vscode": {
   "interpreter": {
    "hash": "10b546dc9a6492740535e7e359781ac3cb076df88249adf04015d7e9d7b6abb1"
   }
  }
 },
 "nbformat": 4,
 "nbformat_minor": 2
}
