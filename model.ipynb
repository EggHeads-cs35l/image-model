{
 "cells": [
  {
   "cell_type": "code",
   "execution_count": 8,
   "metadata": {},
   "outputs": [],
   "source": [
    "import tensorflow as tf\n",
    "import numpy as np\n",
    "import pandas as pd\n",
    "import matplotlib as plot\n",
    "import sys"
   ]
  },
  {
   "cell_type": "code",
   "execution_count": 9,
   "metadata": {},
   "outputs": [
    {
     "name": "stdout",
     "output_type": "stream",
     "text": [
      "python version:  3.9.13 (main, Oct 13 2022, 16:12:30) \n",
      "[Clang 12.0.0 ]\n",
      "tf version:  2.10.0\n",
      "devices:  [PhysicalDevice(name='/physical_device:CPU:0', device_type='CPU'), PhysicalDevice(name='/physical_device:GPU:0', device_type='GPU')]\n"
     ]
    }
   ],
   "source": [
    "# check versions and devices\n",
    "print(\"python version: \", sys.version)\n",
    "print(\"tf version: \", tf.__version__)\n",
    "print(\"devices: \", tf.config.list_physical_devices())"
   ]
  },
  {
   "cell_type": "code",
   "execution_count": 39,
   "metadata": {},
   "outputs": [
    {
     "name": "stdout",
     "output_type": "stream",
     "text": [
      "cars:\n",
      "                               0\n",
      "0  [AM General Hummer SUV 2000]\n",
      "1         [Acura RL Sedan 2012]\n",
      "2         [Acura TL Sedan 2012]\n",
      "3        [Acura TL Type-S 2008]\n",
      "4        [Acura TSX Sedan 2012]\n",
      "boxes:\n",
      "        relative_im_path  bbox_x1 bbox_y1  bbox_x2  bbox_y2  class   test\n",
      "0  [car_ims/000001.jpg]  [[112]]   [[7]]  [[853]]  [[717]]  [[1]]  [[0]]\n",
      "1  [car_ims/000002.jpg]   [[48]]  [[24]]  [[441]]  [[202]]  [[1]]  [[0]]\n",
      "2  [car_ims/000003.jpg]    [[7]]   [[4]]  [[277]]  [[180]]  [[1]]  [[0]]\n",
      "3  [car_ims/000004.jpg]   [[33]]  [[50]]  [[197]]  [[150]]  [[1]]  [[0]]\n",
      "4  [car_ims/000005.jpg]    [[5]]   [[8]]   [[83]]   [[58]]  [[1]]  [[0]]\n"
     ]
    }
   ],
   "source": [
    "# convert labels to csv\n",
    "from scipy.io import loadmat\n",
    "mat = loadmat('data/cars_annos.mat')\n",
    "boxes = pd.DataFrame(mat['annotations'][0])\n",
    "cars = pd.DataFrame(mat['class_names'][0])\n",
    "print(\"cars:\\n\", cars.head())\n",
    "print(\"boxes:\\n\", boxes.head())\n"
   ]
  }
 ],
 "metadata": {
  "kernelspec": {
   "display_name": "Python 3.9.13 ('ai')",
   "language": "python",
   "name": "python3"
  },
  "language_info": {
   "codemirror_mode": {
    "name": "ipython",
    "version": 3
   },
   "file_extension": ".py",
   "mimetype": "text/x-python",
   "name": "python",
   "nbconvert_exporter": "python",
   "pygments_lexer": "ipython3",
   "version": "3.9.13"
  },
  "orig_nbformat": 4,
  "vscode": {
   "interpreter": {
    "hash": "10b546dc9a6492740535e7e359781ac3cb076df88249adf04015d7e9d7b6abb1"
   }
  }
 },
 "nbformat": 4,
 "nbformat_minor": 2
}
