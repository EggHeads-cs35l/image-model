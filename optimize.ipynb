{
 "cells": [
  {
   "cell_type": "code",
   "execution_count": 1,
   "metadata": {
    "tags": []
   },
   "outputs": [
    {
     "name": "stderr",
     "output_type": "stream",
     "text": [
      "2022-11-18 15:14:46.797973: I tensorflow/core/platform/cpu_feature_guard.cc:193] This TensorFlow binary is optimized with oneAPI Deep Neural Network Library (oneDNN) to use the following CPU instructions in performance-critical operations:  SSE4.1 SSE4.2 AVX AVX2 FMA\n",
      "To enable them in other operations, rebuild TensorFlow with the appropriate compiler flags.\n"
     ]
    }
   ],
   "source": [
    "# import base\n",
    "import tensorflow as tf\n",
    "import os"
   ]
  },
  {
   "cell_type": "code",
   "execution_count": 2,
   "metadata": {},
   "outputs": [
    {
     "name": "stdout",
     "output_type": "stream",
     "text": [
      "python version:  3.9.13 (main, Oct 13 2022, 16:12:30) \n",
      "[Clang 12.0.0 ]\n",
      "tf version:  2.10.0\n",
      "devices:  [PhysicalDevice(name='/physical_device:CPU:0', device_type='CPU'), PhysicalDevice(name='/physical_device:GPU:0', device_type='GPU')]\n"
     ]
    }
   ],
   "source": [
    "print(\"python version: \", sys.version)\n",
    "print(\"tf version: \", tf.__version__)\n",
    "print(\"devices: \", tf.config.list_physical_devices())"
   ]
  },
  {
   "cell_type": "code",
   "execution_count": 3,
   "metadata": {},
   "outputs": [
    {
     "name": "stderr",
     "output_type": "stream",
     "text": [
      "2022-11-18 15:14:52.260304: I tensorflow/core/platform/cpu_feature_guard.cc:193] This TensorFlow binary is optimized with oneAPI Deep Neural Network Library (oneDNN) to use the following CPU instructions in performance-critical operations:  SSE4.1 SSE4.2 AVX AVX2 FMA\n",
      "To enable them in other operations, rebuild TensorFlow with the appropriate compiler flags.\n",
      "2022-11-18 15:14:52.260848: I tensorflow/core/common_runtime/pluggable_device/pluggable_device_factory.cc:306] Could not identify NUMA node of platform GPU ID 0, defaulting to 0. Your kernel may not have been built with NUMA support.\n",
      "2022-11-18 15:14:52.260892: I tensorflow/core/platform/cpu_feature_guard.cc:193] This TensorFlow binary is optimized with oneAPI Deep Neural Network Library (oneDNN) to use the following CPU instructions in performance-critical operations:  SSE4.1 SSE4.2 AVX AVX2 FMA\n",
      "To enable them in other operations, rebuild TensorFlow with the appropriate compiler flags.\n",
      "2022-11-18 15:14:52.261099: I tensorflow/core/common_runtime/pluggable_device/pluggable_device_factory.cc:272] Created TensorFlow device (/job:localhost/replica:0/task:0/device:GPU:0 with 0 MB memory) -> physical PluggableDevice (device: 0, name: METAL, pci bus id: <undefined>)\n"
     ]
    },
    {
     "name": "stdout",
     "output_type": "stream",
     "text": [
      "Metal device set to: AMD Radeon Pro 560X\n",
      "\n",
      "systemMemory: 32.00 GB\n",
      "maxCacheSize: 2.00 GB\n",
      "\n"
     ]
    }
   ],
   "source": [
    "# load model\n",
    "from tensorflow.keras.models import load_model\n",
    "import pandas as pd\n",
    "from tensorflow_hub import KerasLayer\n",
    "import pandas as pd\n",
    "\n",
    "model = load_model('model.h5')"
   ]
  },
  {
   "cell_type": "code",
   "execution_count": 4,
   "metadata": {
    "tags": [
     "hide-output"
    ]
   },
   "outputs": [
    {
     "name": "stdout",
     "output_type": "stream",
     "text": [
      "Found 16041 files belonging to 2 classes.\n",
      "Using 12833 files for training.\n",
      "Found 16041 files belonging to 2 classes.\n",
      "Using 3208 files for validation.\n"
     ]
    }
   ],
   "source": [
    "# pipeline datasets\n",
    "# create train and validation datasets\n",
    "batch_size = 128\n",
    "img_height = 180\n",
    "img_width = 180\n",
    "\n",
    "train_ds = tf.keras.preprocessing.image_dataset_from_directory(\n",
    "    \"./data/images/\",\n",
    "    validation_split=0.2,\n",
    "    subset=\"training\",\n",
    "    seed=123,\n",
    "    image_size=(img_height, img_width),\n",
    "    batch_size=batch_size,\n",
    "    shuffle=True\n",
    ")\n",
    "val_ds = tf.keras.preprocessing.image_dataset_from_directory(\n",
    "    \"./data/images/\",\n",
    "    validation_split=0.2,\n",
    "    subset=\"validation\",\n",
    "    seed=123,\n",
    "    image_size=(img_height, img_width),\n",
    "    batch_size=batch_size,\n",
    "    shuffle=True\n",
    ")"
   ]
  },
  {
   "cell_type": "code",
   "execution_count": 5,
   "metadata": {},
   "outputs": [
    {
     "data": {
      "text/plain": [
       "['car', 'not_car']"
      ]
     },
     "execution_count": 5,
     "metadata": {},
     "output_type": "execute_result"
    }
   ],
   "source": [
    "# get classes\n",
    "train_ds.class_names"
   ]
  },
  {
   "cell_type": "code",
   "execution_count": 6,
   "metadata": {},
   "outputs": [],
   "source": [
    "# configure for performance\n",
    "autotune = tf.data.AUTOTUNE\n",
    "train_ds = train_ds.cache().prefetch(buffer_size=autotune)\n",
    "val_ds = val_ds.cache().prefetch(buffer_size=autotune)"
   ]
  },
  {
   "cell_type": "code",
   "execution_count": 13,
   "metadata": {},
   "outputs": [
    {
     "name": "stdout",
     "output_type": "stream",
     "text": [
      "Epoch 1/10\n",
      "101/101 [==============================] - 53s 522ms/step - loss: 1.8073e-04 - accuracy: 1.0000 - val_loss: 0.2946 - val_accuracy: 0.9520\n",
      "Epoch 2/10\n",
      "101/101 [==============================] - 52s 520ms/step - loss: 1.3446e-04 - accuracy: 1.0000 - val_loss: 0.3004 - val_accuracy: 0.9520\n",
      "Epoch 3/10\n",
      "101/101 [==============================] - 52s 520ms/step - loss: 1.0713e-04 - accuracy: 1.0000 - val_loss: 0.3041 - val_accuracy: 0.9532\n",
      "Epoch 4/10\n",
      "101/101 [==============================] - 53s 520ms/step - loss: 8.8526e-05 - accuracy: 1.0000 - val_loss: 0.3086 - val_accuracy: 0.9523\n",
      "Epoch 5/10\n",
      "101/101 [==============================] - 52s 520ms/step - loss: 7.5712e-05 - accuracy: 1.0000 - val_loss: 0.3117 - val_accuracy: 0.9536\n",
      "Epoch 6/10\n",
      "101/101 [==============================] - 53s 521ms/step - loss: 6.5846e-05 - accuracy: 1.0000 - val_loss: 0.3154 - val_accuracy: 0.9536\n",
      "Epoch 7/10\n",
      "101/101 [==============================] - 52s 520ms/step - loss: 5.8078e-05 - accuracy: 1.0000 - val_loss: 0.3182 - val_accuracy: 0.9532\n",
      "Epoch 8/10\n",
      "101/101 [==============================] - 53s 523ms/step - loss: 5.1690e-05 - accuracy: 1.0000 - val_loss: 0.3216 - val_accuracy: 0.9536\n",
      "Epoch 9/10\n",
      "101/101 [==============================] - 53s 522ms/step - loss: 4.6322e-05 - accuracy: 1.0000 - val_loss: 0.3243 - val_accuracy: 0.9539\n",
      "Epoch 10/10\n",
      "101/101 [==============================] - 53s 522ms/step - loss: 4.1725e-05 - accuracy: 1.0000 - val_loss: 0.3277 - val_accuracy: 0.9532\n"
     ]
    }
   ],
   "source": [
    "# train model\n",
    "history = model.fit(\n",
    "    train_ds,\n",
    "    validation_data=val_ds,\n",
    "    epochs=10\n",
    ")"
   ]
  },
  {
   "cell_type": "code",
   "execution_count": 22,
   "metadata": {},
   "outputs": [
    {
     "name": "stderr",
     "output_type": "stream",
     "text": [
      "WARNING:root:Failure to load the training.so custom c++ tensorflow ops. This error is likely caused the version of TensorFlow and TensorFlow Decision Forests are not compatible. Full error:dlopen(/Users/tejas/miniconda3/envs/ai/lib/python3.9/site-packages/tensorflow_decision_forests/tensorflow/ops/training/training.so, 0x0006): Symbol not found: (__ZN10tensorflow7ExampleC1Ev)\n",
      "  Referenced from: '/Users/tejas/miniconda3/envs/ai/lib/python3.9/site-packages/tensorflow_decision_forests/tensorflow/ops/training/training.so'\n",
      "  Expected in: '/Users/tejas/miniconda3/envs/ai/lib/python3.9/site-packages/tensorflow/libtensorflow_framework.2.dylib'\n"
     ]
    },
    {
     "ename": "NotFoundError",
     "evalue": "dlopen(/Users/tejas/miniconda3/envs/ai/lib/python3.9/site-packages/tensorflow_decision_forests/tensorflow/ops/training/training.so, 0x0006): Symbol not found: (__ZN10tensorflow7ExampleC1Ev)\n  Referenced from: '/Users/tejas/miniconda3/envs/ai/lib/python3.9/site-packages/tensorflow_decision_forests/tensorflow/ops/training/training.so'\n  Expected in: '/Users/tejas/miniconda3/envs/ai/lib/python3.9/site-packages/tensorflow/libtensorflow_framework.2.dylib'",
     "output_type": "error",
     "traceback": [
      "\u001b[0;31m---------------------------------------------------------------------------\u001b[0m",
      "\u001b[0;31mNotFoundError\u001b[0m                             Traceback (most recent call last)",
      "\u001b[1;32m/Users/tejas/github/image-model/optimize.ipynb Cell 8\u001b[0m in \u001b[0;36m<cell line: 9>\u001b[0;34m()\u001b[0m\n\u001b[1;32m      <a href='vscode-notebook-cell:/Users/tejas/github/image-model/optimize.ipynb#X10sZmlsZQ%3D%3D?line=5'>6</a>\u001b[0m \u001b[39mwith\u001b[39;00m \u001b[39mopen\u001b[39m(\u001b[39m\"\u001b[39m\u001b[39mhist.json\u001b[39m\u001b[39m\"\u001b[39m, \u001b[39m\"\u001b[39m\u001b[39mw\u001b[39m\u001b[39m\"\u001b[39m) \u001b[39mas\u001b[39;00m f:\n\u001b[1;32m      <a href='vscode-notebook-cell:/Users/tejas/github/image-model/optimize.ipynb#X10sZmlsZQ%3D%3D?line=6'>7</a>\u001b[0m     hist_df\u001b[39m.\u001b[39mto_json(f)\n\u001b[0;32m----> <a href='vscode-notebook-cell:/Users/tejas/github/image-model/optimize.ipynb#X10sZmlsZQ%3D%3D?line=8'>9</a>\u001b[0m \u001b[39mimport\u001b[39;00m \u001b[39mtensorflowjs\u001b[39;00m \u001b[39mas\u001b[39;00m \u001b[39mtfjs\u001b[39;00m\n\u001b[1;32m     <a href='vscode-notebook-cell:/Users/tejas/github/image-model/optimize.ipynb#X10sZmlsZQ%3D%3D?line=9'>10</a>\u001b[0m \u001b[39m# save to tensorflowjs\u001b[39;00m\n\u001b[1;32m     <a href='vscode-notebook-cell:/Users/tejas/github/image-model/optimize.ipynb#X10sZmlsZQ%3D%3D?line=10'>11</a>\u001b[0m tfjs\u001b[39m.\u001b[39mconverters\u001b[39m.\u001b[39msave_keras_model(model, \u001b[39m\"\u001b[39m\u001b[39mmodel_tfjs.json\u001b[39m\u001b[39m\"\u001b[39m)\n",
      "File \u001b[0;32m~/miniconda3/envs/ai/lib/python3.9/site-packages/tensorflowjs/__init__.py:21\u001b[0m, in \u001b[0;36m<module>\u001b[0;34m\u001b[0m\n\u001b[1;32m     18\u001b[0m \u001b[39mfrom\u001b[39;00m \u001b[39m__future__\u001b[39;00m \u001b[39mimport\u001b[39;00m print_function\n\u001b[1;32m     20\u001b[0m \u001b[39m# pylint: disable=unused-imports\u001b[39;00m\n\u001b[0;32m---> 21\u001b[0m \u001b[39mfrom\u001b[39;00m \u001b[39mtensorflowjs\u001b[39;00m \u001b[39mimport\u001b[39;00m converters\n\u001b[1;32m     22\u001b[0m \u001b[39mfrom\u001b[39;00m \u001b[39mtensorflowjs\u001b[39;00m \u001b[39mimport\u001b[39;00m quantization\n\u001b[1;32m     23\u001b[0m \u001b[39mfrom\u001b[39;00m \u001b[39mtensorflowjs\u001b[39;00m \u001b[39mimport\u001b[39;00m version\n",
      "File \u001b[0;32m~/miniconda3/envs/ai/lib/python3.9/site-packages/tensorflowjs/converters/__init__.py:21\u001b[0m, in \u001b[0;36m<module>\u001b[0;34m\u001b[0m\n\u001b[1;32m     18\u001b[0m \u001b[39mfrom\u001b[39;00m \u001b[39m__future__\u001b[39;00m \u001b[39mimport\u001b[39;00m print_function\n\u001b[1;32m     20\u001b[0m \u001b[39m# pylint: disable=unused-imports,line-too-long\u001b[39;00m\n\u001b[0;32m---> 21\u001b[0m \u001b[39mfrom\u001b[39;00m \u001b[39mtensorflowjs\u001b[39;00m\u001b[39m.\u001b[39;00m\u001b[39mconverters\u001b[39;00m\u001b[39m.\u001b[39;00m\u001b[39mconverter\u001b[39;00m \u001b[39mimport\u001b[39;00m convert\n\u001b[1;32m     22\u001b[0m \u001b[39mfrom\u001b[39;00m \u001b[39mtensorflowjs\u001b[39;00m\u001b[39m.\u001b[39;00m\u001b[39mconverters\u001b[39;00m\u001b[39m.\u001b[39;00m\u001b[39mkeras_h5_conversion\u001b[39;00m \u001b[39mimport\u001b[39;00m save_keras_model\n\u001b[1;32m     23\u001b[0m \u001b[39mfrom\u001b[39;00m \u001b[39mtensorflowjs\u001b[39;00m\u001b[39m.\u001b[39;00m\u001b[39mconverters\u001b[39;00m\u001b[39m.\u001b[39;00m\u001b[39mkeras_tfjs_loader\u001b[39;00m \u001b[39mimport\u001b[39;00m deserialize_keras_model\n",
      "File \u001b[0;32m~/miniconda3/envs/ai/lib/python3.9/site-packages/tensorflowjs/converters/converter.py:37\u001b[0m, in \u001b[0;36m<module>\u001b[0;34m\u001b[0m\n\u001b[1;32m     35\u001b[0m \u001b[39mfrom\u001b[39;00m \u001b[39mtensorflowjs\u001b[39;00m\u001b[39m.\u001b[39;00m\u001b[39mconverters\u001b[39;00m \u001b[39mimport\u001b[39;00m keras_h5_conversion \u001b[39mas\u001b[39;00m conversion\n\u001b[1;32m     36\u001b[0m \u001b[39mfrom\u001b[39;00m \u001b[39mtensorflowjs\u001b[39;00m\u001b[39m.\u001b[39;00m\u001b[39mconverters\u001b[39;00m \u001b[39mimport\u001b[39;00m keras_tfjs_loader\n\u001b[0;32m---> 37\u001b[0m \u001b[39mfrom\u001b[39;00m \u001b[39mtensorflowjs\u001b[39;00m\u001b[39m.\u001b[39;00m\u001b[39mconverters\u001b[39;00m \u001b[39mimport\u001b[39;00m tf_saved_model_conversion_v2\n\u001b[1;32m     40\u001b[0m \u001b[39mdef\u001b[39;00m \u001b[39mdispatch_keras_h5_to_tfjs_layers_model_conversion\u001b[39m(\n\u001b[1;32m     41\u001b[0m     h5_path, output_dir\u001b[39m=\u001b[39m\u001b[39mNone\u001b[39;00m, quantization_dtype_map\u001b[39m=\u001b[39m\u001b[39mNone\u001b[39;00m,\n\u001b[1;32m     42\u001b[0m     split_weights_by_layer\u001b[39m=\u001b[39m\u001b[39mFalse\u001b[39;00m,\n\u001b[1;32m     43\u001b[0m     weight_shard_size_bytes\u001b[39m=\u001b[39m\u001b[39m1024\u001b[39m \u001b[39m*\u001b[39m \u001b[39m1024\u001b[39m \u001b[39m*\u001b[39m \u001b[39m4\u001b[39m,\n\u001b[1;32m     44\u001b[0m     metadata\u001b[39m=\u001b[39m\u001b[39mNone\u001b[39;00m):\n\u001b[1;32m     45\u001b[0m   \u001b[39m\"\"\"Converts a Keras HDF5 saved-model file to TensorFlow.js format.\u001b[39;00m\n\u001b[1;32m     46\u001b[0m \n\u001b[1;32m     47\u001b[0m \u001b[39m  Auto-detects saved_model versus weights-only and generates the correct\u001b[39;00m\n\u001b[0;32m   (...)\u001b[0m\n\u001b[1;32m     73\u001b[0m \u001b[39m      groups: an array of weight_groups as defined in tfjs weights_writer.\u001b[39;00m\n\u001b[1;32m     74\u001b[0m \u001b[39m  \"\"\"\u001b[39;00m\n",
      "File \u001b[0;32m~/miniconda3/envs/ai/lib/python3.9/site-packages/tensorflowjs/converters/tf_saved_model_conversion_v2.py:28\u001b[0m, in \u001b[0;36m<module>\u001b[0;34m\u001b[0m\n\u001b[1;32m     25\u001b[0m \u001b[39mfrom\u001b[39;00m \u001b[39mzipfile\u001b[39;00m \u001b[39mimport\u001b[39;00m ZipFile\n\u001b[1;32m     27\u001b[0m \u001b[39m# Required to load saved models that use TFDF.\u001b[39;00m\n\u001b[0;32m---> 28\u001b[0m \u001b[39mimport\u001b[39;00m \u001b[39mtensorflow_decision_forests\u001b[39;00m\n\u001b[1;32m     29\u001b[0m \u001b[39mimport\u001b[39;00m \u001b[39mtensorflow\u001b[39;00m \u001b[39mas\u001b[39;00m \u001b[39mtf\u001b[39;00m\n\u001b[1;32m     30\u001b[0m \u001b[39mfrom\u001b[39;00m \u001b[39mtensorflow\u001b[39;00m\u001b[39m.\u001b[39;00m\u001b[39mcore\u001b[39;00m\u001b[39m.\u001b[39;00m\u001b[39mframework\u001b[39;00m \u001b[39mimport\u001b[39;00m graph_pb2\n",
      "File \u001b[0;32m~/miniconda3/envs/ai/lib/python3.9/site-packages/tensorflow_decision_forests/__init__.py:63\u001b[0m, in \u001b[0;36m<module>\u001b[0;34m\u001b[0m\n\u001b[1;32m     59\u001b[0m \u001b[39mfrom\u001b[39;00m \u001b[39mtensorflow_decision_forests\u001b[39;00m\u001b[39m.\u001b[39;00m\u001b[39mtensorflow\u001b[39;00m \u001b[39mimport\u001b[39;00m check_version\n\u001b[1;32m     61\u001b[0m check_version\u001b[39m.\u001b[39mcheck_version(__version__, compatible_tf_versions)\n\u001b[0;32m---> 63\u001b[0m \u001b[39mfrom\u001b[39;00m \u001b[39mtensorflow_decision_forests\u001b[39;00m \u001b[39mimport\u001b[39;00m keras\n\u001b[1;32m     64\u001b[0m \u001b[39mfrom\u001b[39;00m \u001b[39mtensorflow_decision_forests\u001b[39;00m\u001b[39m.\u001b[39;00m\u001b[39mcomponent\u001b[39;00m \u001b[39mimport\u001b[39;00m py_tree\n\u001b[1;32m     65\u001b[0m \u001b[39mfrom\u001b[39;00m \u001b[39mtensorflow_decision_forests\u001b[39;00m\u001b[39m.\u001b[39;00m\u001b[39mcomponent\u001b[39;00m\u001b[39m.\u001b[39;00m\u001b[39mbuilder\u001b[39;00m \u001b[39mimport\u001b[39;00m builder\n",
      "File \u001b[0;32m~/miniconda3/envs/ai/lib/python3.9/site-packages/tensorflow_decision_forests/keras/__init__.py:54\u001b[0m, in \u001b[0;36m<module>\u001b[0;34m\u001b[0m\n\u001b[1;32m     15\u001b[0m \u001b[39m\"\"\"Decision Forest in a Keras Model.\u001b[39;00m\n\u001b[1;32m     16\u001b[0m \n\u001b[1;32m     17\u001b[0m \u001b[39mUsage example:\u001b[39;00m\n\u001b[0;32m   (...)\u001b[0m\n\u001b[1;32m     49\u001b[0m \n\u001b[1;32m     50\u001b[0m \u001b[39m\"\"\"\u001b[39;00m\n\u001b[1;32m     52\u001b[0m \u001b[39mfrom\u001b[39;00m \u001b[39mtyping\u001b[39;00m \u001b[39mimport\u001b[39;00m Callable, List\n\u001b[0;32m---> 54\u001b[0m \u001b[39mfrom\u001b[39;00m \u001b[39mtensorflow_decision_forests\u001b[39;00m\u001b[39m.\u001b[39;00m\u001b[39mkeras\u001b[39;00m \u001b[39mimport\u001b[39;00m core\n\u001b[1;32m     55\u001b[0m \u001b[39mfrom\u001b[39;00m \u001b[39mtensorflow_decision_forests\u001b[39;00m\u001b[39m.\u001b[39;00m\u001b[39mkeras\u001b[39;00m \u001b[39mimport\u001b[39;00m wrappers\n\u001b[1;32m     57\u001b[0m \u001b[39m# Utility classes\u001b[39;00m\n",
      "File \u001b[0;32m~/miniconda3/envs/ai/lib/python3.9/site-packages/tensorflow_decision_forests/keras/core.py:59\u001b[0m, in \u001b[0;36m<module>\u001b[0;34m\u001b[0m\n\u001b[1;32m     57\u001b[0m \u001b[39mfrom\u001b[39;00m \u001b[39mtensorflow_decision_forests\u001b[39;00m\u001b[39m.\u001b[39;00m\u001b[39mcomponent\u001b[39;00m\u001b[39m.\u001b[39;00m\u001b[39minspector\u001b[39;00m \u001b[39mimport\u001b[39;00m inspector \u001b[39mas\u001b[39;00m inspector_lib\n\u001b[1;32m     58\u001b[0m \u001b[39mfrom\u001b[39;00m \u001b[39mtensorflow_decision_forests\u001b[39;00m\u001b[39m.\u001b[39;00m\u001b[39mcomponent\u001b[39;00m\u001b[39m.\u001b[39;00m\u001b[39mtuner\u001b[39;00m \u001b[39mimport\u001b[39;00m tuner \u001b[39mas\u001b[39;00m tuner_lib\n\u001b[0;32m---> 59\u001b[0m \u001b[39mfrom\u001b[39;00m \u001b[39mtensorflow_decision_forests\u001b[39;00m\u001b[39m.\u001b[39;00m\u001b[39mkeras\u001b[39;00m \u001b[39mimport\u001b[39;00m core_inference\n\u001b[1;32m     60\u001b[0m \u001b[39mfrom\u001b[39;00m \u001b[39mtensorflow_decision_forests\u001b[39;00m\u001b[39m.\u001b[39;00m\u001b[39mtensorflow\u001b[39;00m \u001b[39mimport\u001b[39;00m core \u001b[39mas\u001b[39;00m tf_core\n\u001b[1;32m     61\u001b[0m \u001b[39mfrom\u001b[39;00m \u001b[39mtensorflow_decision_forests\u001b[39;00m\u001b[39m.\u001b[39;00m\u001b[39mtensorflow\u001b[39;00m \u001b[39mimport\u001b[39;00m tf1_compatibility\n",
      "File \u001b[0;32m~/miniconda3/envs/ai/lib/python3.9/site-packages/tensorflow_decision_forests/keras/core_inference.py:31\u001b[0m, in \u001b[0;36m<module>\u001b[0;34m\u001b[0m\n\u001b[1;32m     29\u001b[0m \u001b[39mfrom\u001b[39;00m \u001b[39mtensorflow_decision_forests\u001b[39;00m\u001b[39m.\u001b[39;00m\u001b[39mcomponent\u001b[39;00m\u001b[39m.\u001b[39;00m\u001b[39minspector\u001b[39;00m \u001b[39mimport\u001b[39;00m inspector \u001b[39mas\u001b[39;00m inspector_lib\n\u001b[1;32m     30\u001b[0m \u001b[39mfrom\u001b[39;00m \u001b[39mtensorflow_decision_forests\u001b[39;00m\u001b[39m.\u001b[39;00m\u001b[39mtensorflow\u001b[39;00m \u001b[39mimport\u001b[39;00m core_inference \u001b[39mas\u001b[39;00m tf_core\n\u001b[0;32m---> 31\u001b[0m \u001b[39mfrom\u001b[39;00m \u001b[39mtensorflow_decision_forests\u001b[39;00m\u001b[39m.\u001b[39;00m\u001b[39mtensorflow\u001b[39;00m \u001b[39mimport\u001b[39;00m tf_logging\n\u001b[1;32m     32\u001b[0m \u001b[39mfrom\u001b[39;00m \u001b[39mtensorflow_decision_forests\u001b[39;00m\u001b[39m.\u001b[39;00m\u001b[39mtensorflow\u001b[39;00m\u001b[39m.\u001b[39;00m\u001b[39mops\u001b[39;00m\u001b[39m.\u001b[39;00m\u001b[39minference\u001b[39;00m \u001b[39mimport\u001b[39;00m api \u001b[39mas\u001b[39;00m tf_op\n\u001b[1;32m     33\u001b[0m \u001b[39mfrom\u001b[39;00m \u001b[39myggdrasil_decision_forests\u001b[39;00m\u001b[39m.\u001b[39;00m\u001b[39mlearner\u001b[39;00m \u001b[39mimport\u001b[39;00m abstract_learner_pb2\n",
      "File \u001b[0;32m~/miniconda3/envs/ai/lib/python3.9/site-packages/tensorflow_decision_forests/tensorflow/tf_logging.py:26\u001b[0m, in \u001b[0;36m<module>\u001b[0;34m\u001b[0m\n\u001b[1;32m     23\u001b[0m \u001b[39mfrom\u001b[39;00m \u001b[39mtyping\u001b[39;00m \u001b[39mimport\u001b[39;00m Union, Any, List\n\u001b[1;32m     24\u001b[0m \u001b[39mfrom\u001b[39;00m \u001b[39mabsl\u001b[39;00m \u001b[39mimport\u001b[39;00m logging\n\u001b[0;32m---> 26\u001b[0m \u001b[39mfrom\u001b[39;00m \u001b[39mtensorflow_decision_forests\u001b[39;00m\u001b[39m.\u001b[39;00m\u001b[39mtensorflow\u001b[39;00m\u001b[39m.\u001b[39;00m\u001b[39mops\u001b[39;00m\u001b[39m.\u001b[39;00m\u001b[39mtraining\u001b[39;00m \u001b[39mimport\u001b[39;00m op \u001b[39mas\u001b[39;00m training_op\n\u001b[1;32m     28\u001b[0m \u001b[39m# Background\u001b[39;00m\n\u001b[1;32m     29\u001b[0m \u001b[39m# ==========\u001b[39;00m\n\u001b[1;32m     30\u001b[0m \u001b[39m#\u001b[39;00m\n\u001b[0;32m   (...)\u001b[0m\n\u001b[1;32m     52\u001b[0m \u001b[39m# the redirection is setup; false positive). If you face one of those\u001b[39;00m\n\u001b[1;32m     53\u001b[0m \u001b[39m# situations, please ping us.\u001b[39;00m\n\u001b[1;32m     54\u001b[0m REDIRECT_YGGDRASIL_CPP_OUTPUT_TO_PYTHON_OUTPUT \u001b[39m=\u001b[39m \u001b[39m\"\u001b[39m\u001b[39mauto\u001b[39m\u001b[39m\"\u001b[39m\n",
      "File \u001b[0;32m~/miniconda3/envs/ai/lib/python3.9/site-packages/tensorflow_decision_forests/tensorflow/ops/training/op.py:15\u001b[0m, in \u001b[0;36m<module>\u001b[0;34m\u001b[0m\n\u001b[1;32m      1\u001b[0m \u001b[39m# Copyright 2021 Google LLC.\u001b[39;00m\n\u001b[1;32m      2\u001b[0m \u001b[39m#\u001b[39;00m\n\u001b[1;32m      3\u001b[0m \u001b[39m# Licensed under the Apache License, Version 2.0 (the \"License\");\u001b[39;00m\n\u001b[0;32m   (...)\u001b[0m\n\u001b[1;32m     12\u001b[0m \u001b[39m# See the License for the specific language governing permissions and\u001b[39;00m\n\u001b[1;32m     13\u001b[0m \u001b[39m# limitations under the License.\u001b[39;00m\n\u001b[0;32m---> 15\u001b[0m \u001b[39mfrom\u001b[39;00m \u001b[39mtensorflow_decision_forests\u001b[39;00m\u001b[39m.\u001b[39;00m\u001b[39mtensorflow\u001b[39;00m\u001b[39m.\u001b[39;00m\u001b[39mops\u001b[39;00m\u001b[39m.\u001b[39;00m\u001b[39mtraining\u001b[39;00m\u001b[39m.\u001b[39;00m\u001b[39mop_dynamic\u001b[39;00m \u001b[39mimport\u001b[39;00m \u001b[39m*\u001b[39m\n",
      "File \u001b[0;32m~/miniconda3/envs/ai/lib/python3.9/site-packages/tensorflow_decision_forests/tensorflow/ops/training/op_dynamic.py:24\u001b[0m, in \u001b[0;36m<module>\u001b[0;34m\u001b[0m\n\u001b[1;32m     22\u001b[0m \u001b[39mexcept\u001b[39;00m \u001b[39mException\u001b[39;00m \u001b[39mas\u001b[39;00m e:\n\u001b[1;32m     23\u001b[0m   check_version\u001b[39m.\u001b[39minfo_fail_to_load_custom_op(e, \u001b[39m\"\u001b[39m\u001b[39mtraining.so\u001b[39m\u001b[39m\"\u001b[39m)\n\u001b[0;32m---> 24\u001b[0m   \u001b[39mraise\u001b[39;00m e\n\u001b[1;32m     26\u001b[0m \u001b[39m# Importing all the symbols.\u001b[39;00m\n\u001b[1;32m     27\u001b[0m module \u001b[39m=\u001b[39m sys\u001b[39m.\u001b[39mmodules[\u001b[39m__name__\u001b[39m]\n",
      "File \u001b[0;32m~/miniconda3/envs/ai/lib/python3.9/site-packages/tensorflow_decision_forests/tensorflow/ops/training/op_dynamic.py:21\u001b[0m, in \u001b[0;36m<module>\u001b[0;34m\u001b[0m\n\u001b[1;32m     18\u001b[0m \u001b[39mimport\u001b[39;00m \u001b[39msys\u001b[39;00m\n\u001b[1;32m     20\u001b[0m \u001b[39mtry\u001b[39;00m:\n\u001b[0;32m---> 21\u001b[0m   ops \u001b[39m=\u001b[39m tf\u001b[39m.\u001b[39;49mload_op_library(resource_loader\u001b[39m.\u001b[39;49mget_path_to_datafile(\u001b[39m\"\u001b[39;49m\u001b[39mtraining.so\u001b[39;49m\u001b[39m\"\u001b[39;49m))\n\u001b[1;32m     22\u001b[0m \u001b[39mexcept\u001b[39;00m \u001b[39mException\u001b[39;00m \u001b[39mas\u001b[39;00m e:\n\u001b[1;32m     23\u001b[0m   check_version\u001b[39m.\u001b[39minfo_fail_to_load_custom_op(e, \u001b[39m\"\u001b[39m\u001b[39mtraining.so\u001b[39m\u001b[39m\"\u001b[39m)\n",
      "File \u001b[0;32m~/miniconda3/envs/ai/lib/python3.9/site-packages/tensorflow/python/framework/load_library.py:54\u001b[0m, in \u001b[0;36mload_op_library\u001b[0;34m(library_filename)\u001b[0m\n\u001b[1;32m     31\u001b[0m \u001b[39m@tf_export\u001b[39m(\u001b[39m'\u001b[39m\u001b[39mload_op_library\u001b[39m\u001b[39m'\u001b[39m)\n\u001b[1;32m     32\u001b[0m \u001b[39mdef\u001b[39;00m \u001b[39mload_op_library\u001b[39m(library_filename):\n\u001b[1;32m     33\u001b[0m   \u001b[39m\"\"\"Loads a TensorFlow plugin, containing custom ops and kernels.\u001b[39;00m\n\u001b[1;32m     34\u001b[0m \n\u001b[1;32m     35\u001b[0m \u001b[39m  Pass \"library_filename\" to a platform-specific mechanism for dynamically\u001b[39;00m\n\u001b[0;32m   (...)\u001b[0m\n\u001b[1;32m     52\u001b[0m \u001b[39m    RuntimeError: when unable to load the library or get the python wrappers.\u001b[39;00m\n\u001b[1;32m     53\u001b[0m \u001b[39m  \"\"\"\u001b[39;00m\n\u001b[0;32m---> 54\u001b[0m   lib_handle \u001b[39m=\u001b[39m py_tf\u001b[39m.\u001b[39;49mTF_LoadLibrary(library_filename)\n\u001b[1;32m     55\u001b[0m   \u001b[39mtry\u001b[39;00m:\n\u001b[1;32m     56\u001b[0m     wrappers \u001b[39m=\u001b[39m _pywrap_python_op_gen\u001b[39m.\u001b[39mGetPythonWrappers(\n\u001b[1;32m     57\u001b[0m         py_tf\u001b[39m.\u001b[39mTF_GetOpList(lib_handle))\n",
      "\u001b[0;31mNotFoundError\u001b[0m: dlopen(/Users/tejas/miniconda3/envs/ai/lib/python3.9/site-packages/tensorflow_decision_forests/tensorflow/ops/training/training.so, 0x0006): Symbol not found: (__ZN10tensorflow7ExampleC1Ev)\n  Referenced from: '/Users/tejas/miniconda3/envs/ai/lib/python3.9/site-packages/tensorflow_decision_forests/tensorflow/ops/training/training.so'\n  Expected in: '/Users/tejas/miniconda3/envs/ai/lib/python3.9/site-packages/tensorflow/libtensorflow_framework.2.dylib'"
     ]
    }
   ],
   "source": [
    "# save model\n",
    "import pandas as pd\n",
    "\n",
    "model.save('model.h5')\n",
    "hist_df = pd.DataFrame(history.history)\n",
    "with open(\"hist.json\", \"w\") as f:\n",
    "    hist_df.to_json(f)\n",
    "\n",
    "import tensorflowjs as tfjs\n",
    "# save to tensorflowjs\n",
    "tfjs.converters.save_keras_model(model, \"model_tfjs.json\")\n"
   ]
  },
  {
   "cell_type": "code",
   "execution_count": 20,
   "metadata": {},
   "outputs": [
    {
     "data": {
      "image/png": "[encoded data removed]",
      "text/plain": [
       "<Figure size 1500x500 with 2 Axes>"
      ]
     },
     "metadata": {},
     "output_type": "display_data"
    }
   ],
   "source": [
    "# visualize model\n",
    "#plot accuracy and val_accuracy\n",
    "import matplotlib.pyplot as plt\n",
    "import pandas as pd\n",
    "\n",
    "model_hist = pd.read_json(\"hist.json\")\n",
    "figure, axes = plt.subplots(1, 2, figsize=(15, 5))\n",
    "axes[0].set_title(\"Accuracy\")\n",
    "axes[0].plot(model_hist['accuracy'], label='train')\n",
    "axes[0].plot(model_hist['val_accuracy'], label = 'test')\n",
    "axes[0].set_xlabel('Epoch')\n",
    "axes[0].set_ylabel('Accuracy')\n",
    "axes[0].legend(loc='upper left')\n",
    "# plot loss and val_loss\n",
    "axes[1].set_title(\"Loss\")\n",
    "axes[1].plot(model_hist['loss'], label='train')\n",
    "axes[1].plot(model_hist['val_loss'], label = 'test')\n",
    "axes[1].set_xlabel('Epoch')\n",
    "axes[1].set_ylabel('Loss')\n",
    "axes[1].legend(loc='upper left')\n",
    "\n",
    "plt.show()"
   ]
  }
 ],
 "metadata": {
  "kernelspec": {
   "display_name": "Python 3.9.13 ('ai')",
   "language": "python",
   "name": "python3"
  },
  "language_info": {
   "codemirror_mode": {
    "name": "ipython",
    "version": 3
   },
   "file_extension": ".py",
   "mimetype": "text/x-python",
   "name": "python",
   "nbconvert_exporter": "python",
   "pygments_lexer": "ipython3",
   "version": "3.9.13"
  },
  "orig_nbformat": 4,
  "vscode": {
   "interpreter": {
    "hash": "10b546dc9a6492740535e7e359781ac3cb076df88249adf04015d7e9d7b6abb1"
   }
  }
 },
 "nbformat": 4,
 "nbformat_minor": 2
}
