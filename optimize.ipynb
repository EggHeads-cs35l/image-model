{
 "cells": [
  {
   "cell_type": "code",
   "execution_count": 1,
   "metadata": {
    "tags": []
   },
   "outputs": [
    {
     "name": "stderr",
     "output_type": "stream",
     "text": [
      "2022-11-18 11:55:09.403042: I tensorflow/core/platform/cpu_feature_guard.cc:193] This TensorFlow binary is optimized with oneAPI Deep Neural Network Library (oneDNN) to use the following CPU instructions in performance-critical operations:  SSE4.1 SSE4.2 AVX AVX2 FMA\n",
      "To enable them in other operations, rebuild TensorFlow with the appropriate compiler flags.\n"
     ]
    }
   ],
   "source": [
    "# import base\n",
    "import tensorflow as tf\n",
    "import os"
   ]
  },
  {
   "cell_type": "code",
   "execution_count": 2,
   "metadata": {},
   "outputs": [
    {
     "name": "stdout",
     "output_type": "stream",
     "text": [
      "python version:  3.9.13 (main, Oct 13 2022, 16:12:30) \n",
      "[Clang 12.0.0 ]\n",
      "tf version:  2.10.0\n",
      "devices:  [PhysicalDevice(name='/physical_device:CPU:0', device_type='CPU'), PhysicalDevice(name='/physical_device:GPU:0', device_type='GPU')]\n"
     ]
    }
   ],
   "source": [
    "print(\"python version: \", sys.version)\n",
    "print(\"tf version: \", tf.__version__)\n",
    "print(\"devices: \", tf.config.list_physical_devices())"
   ]
  },
  {
   "cell_type": "code",
   "execution_count": 3,
   "metadata": {},
   "outputs": [
    {
     "name": "stderr",
     "output_type": "stream",
     "text": [
      "2022-11-18 11:55:13.438668: I tensorflow/core/platform/cpu_feature_guard.cc:193] This TensorFlow binary is optimized with oneAPI Deep Neural Network Library (oneDNN) to use the following CPU instructions in performance-critical operations:  SSE4.1 SSE4.2 AVX AVX2 FMA\n",
      "To enable them in other operations, rebuild TensorFlow with the appropriate compiler flags.\n",
      "2022-11-18 11:55:13.439405: I tensorflow/core/common_runtime/pluggable_device/pluggable_device_factory.cc:306] Could not identify NUMA node of platform GPU ID 0, defaulting to 0. Your kernel may not have been built with NUMA support.\n",
      "2022-11-18 11:55:13.439474: I tensorflow/core/platform/cpu_feature_guard.cc:193] This TensorFlow binary is optimized with oneAPI Deep Neural Network Library (oneDNN) to use the following CPU instructions in performance-critical operations:  SSE4.1 SSE4.2 AVX AVX2 FMA\n",
      "To enable them in other operations, rebuild TensorFlow with the appropriate compiler flags.\n",
      "2022-11-18 11:55:13.439779: I tensorflow/core/common_runtime/pluggable_device/pluggable_device_factory.cc:272] Created TensorFlow device (/job:localhost/replica:0/task:0/device:GPU:0 with 0 MB memory) -> physical PluggableDevice (device: 0, name: METAL, pci bus id: <undefined>)\n"
     ]
    },
    {
     "name": "stdout",
     "output_type": "stream",
     "text": [
      "Metal device set to: AMD Radeon Pro 560X\n",
      "\n",
      "systemMemory: 32.00 GB\n",
      "maxCacheSize: 2.00 GB\n",
      "\n"
     ]
    }
   ],
   "source": [
    "# load model\n",
    "from tensorflow.keras.models import load_model\n",
    "import pandas as pd\n",
    "from tensorflow_hub import KerasLayer\n",
    "import pandas as pd\n",
    "\n",
    "model = load_model('model.h5')\n",
    "model_hist = pd.read_json(\"hist.json\")"
   ]
  },
  {
   "cell_type": "code",
   "execution_count": 4,
   "metadata": {
    "tags": [
     "hide-output"
    ]
   },
   "outputs": [
    {
     "name": "stdout",
     "output_type": "stream",
     "text": [
      "Found 16041 files belonging to 2 classes.\n",
      "Using 12833 files for training.\n",
      "Found 16041 files belonging to 2 classes.\n",
      "Using 3208 files for validation.\n"
     ]
    }
   ],
   "source": [
    "# pipeline datasets\n",
    "# create train and validation datasets\n",
    "batch_size = 128\n",
    "img_height = 180\n",
    "img_width = 180\n",
    "\n",
    "train_ds = tf.keras.preprocessing.image_dataset_from_directory(\n",
    "    \"./data/images/\",\n",
    "    validation_split=0.2,\n",
    "    subset=\"training\",\n",
    "    seed=123,\n",
    "    image_size=(img_height, img_width),\n",
    "    batch_size=batch_size,\n",
    "    shuffle=True\n",
    ")\n",
    "val_ds = tf.keras.preprocessing.image_dataset_from_directory(\n",
    "    \"./data/images/\",\n",
    "    validation_split=0.2,\n",
    "    subset=\"validation\",\n",
    "    seed=123,\n",
    "    image_size=(img_height, img_width),\n",
    "    batch_size=batch_size,\n",
    "    shuffle=True\n",
    ")"
   ]
  },
  {
   "cell_type": "code",
   "execution_count": 5,
   "metadata": {},
   "outputs": [
    {
     "data": {
      "text/plain": [
       "['car', 'not_car']"
      ]
     },
     "execution_count": 5,
     "metadata": {},
     "output_type": "execute_result"
    }
   ],
   "source": [
    "# get classes\n",
    "train_ds.class_names"
   ]
  },
  {
   "cell_type": "code",
   "execution_count": 6,
   "metadata": {},
   "outputs": [],
   "source": [
    "# configure for performance\n",
    "autotune = tf.data.AUTOTUNE\n",
    "train_ds = train_ds.cache().prefetch(buffer_size=autotune)\n",
    "val_ds = val_ds.cache().prefetch(buffer_size=autotune)"
   ]
  },
  {
   "cell_type": "code",
   "execution_count": 20,
   "metadata": {},
   "outputs": [
    {
     "name": "stdout",
     "output_type": "stream",
     "text": [
      "Epoch 1/10\n",
      "101/101 [==============================] - 42s 414ms/step - loss: 0.0013 - accuracy: 0.9998 - val_loss: 0.3034 - val_accuracy: 0.9489\n",
      "Epoch 2/10\n",
      "101/101 [==============================] - 42s 416ms/step - loss: 0.0012 - accuracy: 0.9998 - val_loss: 0.3111 - val_accuracy: 0.9489\n",
      "Epoch 3/10\n",
      "101/101 [==============================] - 42s 416ms/step - loss: 0.0010 - accuracy: 0.9998 - val_loss: 0.3187 - val_accuracy: 0.9495\n",
      "Epoch 4/10\n",
      "101/101 [==============================] - 42s 415ms/step - loss: 9.0911e-04 - accuracy: 0.9998 - val_loss: 0.3252 - val_accuracy: 0.9495\n",
      "Epoch 5/10\n",
      "101/101 [==============================] - 42s 416ms/step - loss: 8.0138e-04 - accuracy: 0.9998 - val_loss: 0.3308 - val_accuracy: 0.9492\n",
      "Epoch 6/10\n",
      "101/101 [==============================] - 42s 415ms/step - loss: 6.9448e-04 - accuracy: 0.9998 - val_loss: 0.3427 - val_accuracy: 0.9495\n",
      "Epoch 7/10\n",
      "101/101 [==============================] - 42s 417ms/step - loss: 6.1017e-04 - accuracy: 0.9998 - val_loss: 0.3455 - val_accuracy: 0.9486\n",
      "Epoch 8/10\n",
      "101/101 [==============================] - 42s 415ms/step - loss: 5.1692e-04 - accuracy: 0.9998 - val_loss: 0.3604 - val_accuracy: 0.9489\n",
      "Epoch 9/10\n",
      "101/101 [==============================] - 42s 414ms/step - loss: 5.1119e-04 - accuracy: 0.9998 - val_loss: 0.3533 - val_accuracy: 0.9501\n",
      "Epoch 10/10\n",
      "101/101 [==============================] - 42s 414ms/step - loss: 4.3481e-04 - accuracy: 0.9998 - val_loss: 0.3773 - val_accuracy: 0.9489\n"
     ]
    }
   ],
   "source": [
    "# train model\n",
    "history = model.fit(\n",
    "    train_ds,\n",
    "    validation_data=val_ds,\n",
    "    epochs=10\n",
    ")"
   ]
  },
  {
   "cell_type": "code",
   "execution_count": 8,
   "metadata": {},
   "outputs": [],
   "source": [
    "# save model\n",
    "import pandas as pd\n",
    "\n",
    "model.save('model.h5')\n",
    "hist_df = pd.DataFrame(history.history)\n",
    "with open(\"hist.json\", \"w\") as f:\n",
    "    hist_df.to_json(f)\n"
   ]
  },
  {
   "cell_type": "code",
   "execution_count": 19,
   "metadata": {},
   "outputs": [
    {
     "data": {
      "image/png": "[encoded data removed]",
      "text/plain": [
       "<Figure size 1500x500 with 2 Axes>"
      ]
     },
     "metadata": {},
     "output_type": "display_data"
    }
   ],
   "source": [
    "# visualize model\n",
    "#plot accuracy and val_accuracy\n",
    "import matplotlib.pyplot as plt\n",
    "\n",
    "figure, axes = plt.subplots(1, 2, figsize=(15, 5))\n",
    "axes[0].set_title(\"Accuracy\")\n",
    "axes[0].plot(model_hist['accuracy'], label='train')\n",
    "axes[0].plot(model_hist['val_accuracy'], label = 'test')\n",
    "axes[0].set_xlabel('Epoch')\n",
    "axes[0].set_ylabel('Accuracy')\n",
    "axes[0].legend(loc='upper left')\n",
    "# plot loss and val_loss\n",
    "axes[1].set_title(\"Loss\")\n",
    "axes[1].plot(model_hist['loss'], label='train')\n",
    "axes[1].plot(model_hist['val_loss'], label = 'test')\n",
    "axes[1].set_xlabel('Epoch')\n",
    "axes[1].set_ylabel('Loss')\n",
    "axes[1].legend(loc='upper left')\n",
    "\n",
    "plt.show()"
   ]
  }
 ],
 "metadata": {
  "kernelspec": {
   "display_name": "Python 3.9.13 ('ai')",
   "language": "python",
   "name": "python3"
  },
  "language_info": {
   "codemirror_mode": {
    "name": "ipython",
    "version": 3
   },
   "file_extension": ".py",
   "mimetype": "text/x-python",
   "name": "python",
   "nbconvert_exporter": "python",
   "pygments_lexer": "ipython3",
   "version": "3.9.13"
  },
  "orig_nbformat": 4,
  "vscode": {
   "interpreter": {
    "hash": "10b546dc9a6492740535e7e359781ac3cb076df88249adf04015d7e9d7b6abb1"
   }
  }
 },
 "nbformat": 4,
 "nbformat_minor": 2
}
